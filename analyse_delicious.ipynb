{
 "cells": [
  {
   "cell_type": "code",
   "execution_count": 3,
   "metadata": {},
   "outputs": [
    {
     "name": "stdout",
     "output_type": "stream",
     "text": [
      "   userID  contactID      timestamp\n",
      "0       8      28371  1286151259000\n",
      "1       8      40306  1286101989000\n",
      "2       8      85279  1285981848000\n",
      "3       8      91764  1286225027000\n",
      "4       8      97723  1286846913000\n",
      "   userID  bookmarkID  tagID      timestamp\n",
      "0       8           1      1  1289255362000\n",
      "1       8           2      1  1289255159000\n",
      "2       8           7      1  1289238901000\n",
      "3       8           7      6  1289238901000\n",
      "4       8           7      7  1289238901000\n"
     ]
    }
   ],
   "source": [
    "import scipy.io as sio\n",
    "import numpy as np\n",
    "import pandas as pd\n",
    "\n",
    "delicious_folder_path = 'delicious/'\n",
    "\n",
    "user_user_df = pd.read_csv(delicious_folder_path + 'user_contacts-timestamps.dat', delimiter=\"\\t\")\n",
    "user_item_df = pd.read_csv(delicious_folder_path + 'user_taggedbookmarks-timestamps.dat', delimiter=\"\\t\")\n",
    "\n",
    "print(user_user_df.head())\n",
    "print(user_item_df.head())"
   ]
  },
  {
   "cell_type": "code",
   "execution_count": 11,
   "metadata": {},
   "outputs": [
    {
     "name": "stdout",
     "output_type": "stream",
     "text": [
      "Number of users:  1861\n",
      "Number of items:  69223\n",
      "Number of bookmarks:  104799\n",
      "Number of contacts:  15328\n"
     ]
    }
   ],
   "source": [
    "#Get number of distinct users and items\n",
    "\n",
    "num_users = len(user_user_df['userID'].unique())\n",
    "num_items = len(user_item_df['bookmarkID'].unique())\n",
    "\n",
    "print(\"Number of users: \", num_users)\n",
    "print(\"Number of items: \", num_items)\n",
    "\n",
    "#Get number of distinct bookmarks (ie. unique (user, item) pairs)\n",
    "\n",
    "num_bookmarks = len(user_item_df[['userID', 'bookmarkID']].drop_duplicates())\n",
    "\n",
    "print(\"Number of bookmarks: \", num_bookmarks)\n",
    "\n",
    "#Get number of contacts (ie. unique (user, user) pairs)\n",
    "\n",
    "num_contacts = len(user_user_df[['userID', 'contactID']].drop_duplicates())\n",
    "\n",
    "print(\"Number of contacts: \", num_contacts)"
   ]
  }
 ],
 "metadata": {
  "kernelspec": {
   "display_name": ".venv",
   "language": "python",
   "name": "python3"
  },
  "language_info": {
   "codemirror_mode": {
    "name": "ipython",
    "version": 3
   },
   "file_extension": ".py",
   "mimetype": "text/x-python",
   "name": "python",
   "nbconvert_exporter": "python",
   "pygments_lexer": "ipython3",
   "version": "3.10.12"
  }
 },
 "nbformat": 4,
 "nbformat_minor": 2
}
