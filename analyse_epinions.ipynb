{
 "cells": [
  {
   "cell_type": "markdown",
   "metadata": {},
   "source": [
    "## Analyse du réseau epinions"
   ]
  },
  {
   "cell_type": "code",
   "execution_count": 15,
   "metadata": {},
   "outputs": [],
   "source": [
    "epinions_path = \"./epinions\"\n",
    "epinions_rating_path = epinions_path + \"/rating.mat\"\n",
    "epinions_trust_path = epinions_path + \"/trustnetwork.mat\"\n",
    "\n",
    "import scipy.io as sio\n",
    "import numpy as np\n",
    "\n",
    "rating_data = sio.loadmat(epinions_rating_path)\n",
    "trust_data = sio.loadmat(epinions_trust_path)\n",
    "\n",
    "rating_data = rating_data['rating']\n",
    "trust_data = trust_data['trustnetwork']\n",
    "\n",
    "# rating_data format : user, product, category, rating, helpfullness\n",
    "# trust_data format : user1, user2 (user1 trusts user2)"
   ]
  },
  {
   "cell_type": "code",
   "execution_count": 13,
   "metadata": {},
   "outputs": [
    {
     "name": "stdout",
     "output_type": "stream",
     "text": [
      "Number of unique users :  22164\n",
      "Number of unique products :  296277\n"
     ]
    }
   ],
   "source": [
    "users = set()\n",
    "products = set()\n",
    "\n",
    "for i in range(rating_data.shape[0]):\n",
    "    users.add(rating_data[i][0])\n",
    "    products.add(rating_data[i][1])\n",
    "\n",
    "print(\"Number of unique users : \", len(users))\n",
    "print(\"Number of unique products : \", len(products))"
   ]
  },
  {
   "cell_type": "code",
   "execution_count": 14,
   "metadata": {},
   "outputs": [
    {
     "name": "stdout",
     "output_type": "stream",
     "text": [
      "Max number of ratings by a user :  5357\n",
      "Max number of ratings for a product :  1834\n"
     ]
    }
   ],
   "source": [
    "user_rating_count = {}\n",
    "product_rating_count = {}\n",
    "\n",
    "for i in range(rating_data.shape[0]):\n",
    "    user = rating_data[i][0]\n",
    "    product = rating_data[i][1]\n",
    "    if user in user_rating_count:\n",
    "        user_rating_count[user] += 1\n",
    "    else:\n",
    "        user_rating_count[user] = 1\n",
    "    if product in product_rating_count:\n",
    "        product_rating_count[product] += 1\n",
    "    else:\n",
    "        product_rating_count[product] = 1\n",
    "\n",
    "max_user_rating_count = 0\n",
    "max_product_rating_count = 0\n",
    "\n",
    "for user in user_rating_count:\n",
    "    if user_rating_count[user] > max_user_rating_count:\n",
    "        max_user_rating_count = user_rating_count[user]\n",
    "\n",
    "for product in product_rating_count:\n",
    "    if product_rating_count[product] > max_product_rating_count:\n",
    "        max_product_rating_count = product_rating_count[product]\n",
    "\n",
    "print(\"Max number of ratings by a user : \", max_user_rating_count)\n",
    "print(\"Max number of ratings for a product : \", max_product_rating_count)"
   ]
  },
  {
   "cell_type": "code",
   "execution_count": 16,
   "metadata": {},
   "outputs": [
    {
     "name": "stdout",
     "output_type": "stream",
     "text": [
      "Average number of ratings per user :  41.61103591409493\n",
      "Average number of ratings per product :  3.1128538496069558\n"
     ]
    }
   ],
   "source": [
    "average_number_of_ratings_per_user = np.sum(list(user_rating_count.values())) / len(user_rating_count)\n",
    "average_number_of_ratings_per_product = np.sum(list(product_rating_count.values())) / len(product_rating_count)\n",
    "\n",
    "print(\"Average number of ratings per user : \", average_number_of_ratings_per_user)\n",
    "print(\"Average number of ratings per product : \", average_number_of_ratings_per_product)"
   ]
  }
 ],
 "metadata": {
  "kernelspec": {
   "display_name": "Python 3",
   "language": "python",
   "name": "python3"
  },
  "language_info": {
   "codemirror_mode": {
    "name": "ipython",
    "version": 3
   },
   "file_extension": ".py",
   "mimetype": "text/x-python",
   "name": "python",
   "nbconvert_exporter": "python",
   "pygments_lexer": "ipython3",
   "version": "3.10.12"
  }
 },
 "nbformat": 4,
 "nbformat_minor": 2
}
